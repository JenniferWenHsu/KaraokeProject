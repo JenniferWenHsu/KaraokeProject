{
 "cells": [
  {
   "cell_type": "markdown",
   "metadata": {},
   "source": [
    "# EE 120, Spring 2017\n",
    "# Python Homework 1\n",
    "\n",
    "In this assignment, we will investigate a simple system and determine its properties.\n",
    "\n",
    "## System Identification\n",
    "\n",
    "After receiving yet another crime alert from UCPD, you decide to fulfill your childhood dream of becoming Batman. You check out a local cave to build your lair. Inside the cave, you trip and accidentally drop your phone on a rock, which makes a loud bang sound. About 0.2 seconds later, you hear another bang, which is about half as loud. About 0.4 seconds after you dropped your phone, you hear another bang, which is half as loud as the echo. Amazed by the echoes, you clap twice 2 seconds after you dropped your phone to investigate the acoustics of your soon-to-be office for crime fighting. Your second clap comes 0.2 seconds after the first clap. Clapping twice, you hear the two claps themselves in additon to the two echoes of the first clap (each clap about 0.2 seconds apart) and the two echoes of the second clap (with the same effect). The cave does not seem to amplify or attenuate the two initial claps.\n",
    "\n",
    "### Question 1:\n",
    "\n",
    "We would like to model the acoustics of the cave as a system. Let one time unit be equivalent to 0.1 second. Is the system (a) <b>linear</b> and is the system (b) <b>time invariant</b>? (c) If the system is <b>Linear and Time Invariant (LTI)</b>, what is the <b>impulse response</b> of the system?"
   ]
  },
  {
   "cell_type": "markdown",
   "metadata": {
    "collapsed": false
   },
   "source": [
    "(a) Linear. $$y(t) = \\frac{1}{2}x(t+0.2)$$\n",
    "(b) Time Invariant. \n",
    "    Reason: The clap at t=2 has the same response as the clap at t=0\n",
    "<br>(c) The impulse response of hte LTI system is  \n",
    "   $$h(t) = \\frac{1}{2}\\tau(t+0.2)$$"
   ]
  },
  {
   "cell_type": "markdown",
   "metadata": {},
   "source": [
    "The function <i>cave</i> defined below models the cave acoustics system described above. We also provide you with a plotting function."
   ]
  },
  {
   "cell_type": "code",
   "execution_count": 2,
   "metadata": {
    "collapsed": false
   },
   "outputs": [],
   "source": [
    "%matplotlib inline\n",
    "import numpy as np\n",
    "import matplotlib.pyplot as plt\n",
    "\n",
    "def cave(x):\n",
    "    y = np.convolve([1, 0, 0.5, 0, 0.25], x)\n",
    "    return y\n",
    "\n",
    "def plot(x):\n",
    "    plt.figure()\n",
    "    plt.stem(x)\n",
    "    plt.xlabel(r'$n \\times 0.1$ seconds')\n",
    "    x1, x2, y1, y2 = plt.axis()\n",
    "    plt.axis((-0.2, len(x)-0.8, y1-0.1, y2+0.1))\n",
    "    plt.show()\n"
   ]
  },
  {
   "cell_type": "markdown",
   "metadata": {},
   "source": [
    "### Question 2:\n",
    "\n",
    "(a) Using the function <i>plot</i> given to you, plot the impulse response of the system. (b) Now, using the function <i>cave</i>, input a signal that will yield the system's impulse response. A one-dimensional discrete-time signal can be represented as an array of numbers in a computer program. Plot this impulse response and verify that it is equivalent to the impulse response you plotted in (a)."
   ]
  },
  {
   "cell_type": "code",
   "execution_count": 5,
   "metadata": {
    "collapsed": false
   },
   "outputs": [
    {
     "data": {
      "image/png": "[encoded data removed]",
      "text/plain": [
       "<matplotlib.figure.Figure at 0x1709addae48>"
      ]
     },
     "metadata": {},
     "output_type": "display_data"
    }
   ],
   "source": [
    "# WRITE YOUR ANSWER HERE\n",
    "impulse_response = [1, 0, 0.5, 0, 0.25]\n",
    "plot(impulse_response)"
   ]
  },
  {
   "cell_type": "markdown",
   "metadata": {},
   "source": [
    "### Question 3:\n",
    "\n",
    "Is the system (a) <b>causal</b> and is the system (b) <b>Bounded-Input-Bounded-Output (BIBO) stable</b>?"
   ]
  },
  {
   "cell_type": "markdown",
   "metadata": {
    "collapsed": false
   },
   "source": [
    "(a) The system is causal, because the current signal only depends on inputs from the past. <br>\n",
    "(b) The system is BIBO stable. Given that the loundness gets decreased over time, a bounded input will definitely result in a bounded output. "
   ]
  },
  {
   "cell_type": "markdown",
   "metadata": {},
   "source": [
    "## LTI System Verification\n",
    "\n",
    "Let the moment you dropped your phone be time $n = 0$ and let the bang noise have magnitude 1. Your clap sound has magnitude 0.5. The noises you have been making in the cave woke up an insomniac super-bat that moves noiselessly. The angry super-bat bites you and you shout in pain. The shout came about 4 seconds after you dropped your phone. Your shout can be modeled as a constant signal that lasts 0.3 second with magnitude 2.\n",
    "\n",
    "### Question 4:\n",
    "Plot all sounds (output of the system) that were heard inside the cave from time $n = 0$ using the above two functions: <i>cave</i> and <i>plot</i> given to you."
   ]
  },
  {
   "cell_type": "code",
   "execution_count": 16,
   "metadata": {
    "collapsed": false
   },
   "outputs": [
    {
     "data": {
      "image/png": "[encoded data removed]",
      "text/plain": [
       "<matplotlib.figure.Figure at 0x1709c0bacc0>"
      ]
     },
     "metadata": {},
     "output_type": "display_data"
    }
   ],
   "source": [
    "from operator import add\n",
    "# WRITE YOUR ANSWER HERE\n",
    "# Bang\n",
    "bang = [1, 0, 0, 0, 0]\n",
    "bang += [0]*35\n",
    "# Clap1 \n",
    "clap1 = [0]*40\n",
    "clap1[19] = 0.5\n",
    "# Clap2\n",
    "clap2 = [0]*40\n",
    "clap2[21] = 0.5\n",
    "# Shout\n",
    "shout = [0]*40\n",
    "shout[39] = 4\n",
    "\n",
    "result = [sum(x) for x in zip(cave(bang), cave(clap1))]\n",
    "result = [sum(x) for x in zip(cave(result), cave(clap2))]\n",
    "result = [sum(x) for x in zip(cave(result), cave(shout))]\n",
    "\n",
    "plot(result)"
   ]
  }
 ],
 "metadata": {
  "anaconda-cloud": {},
  "kernelspec": {
   "display_name": "Python [default]",
   "language": "python",
   "name": "python3"
  },
  "language_info": {
   "codemirror_mode": {
    "name": "ipython",
    "version": 3
   },
   "file_extension": ".py",
   "mimetype": "text/x-python",
   "name": "python",
   "nbconvert_exporter": "python",
   "pygments_lexer": "ipython3",
   "version": "3.5.2"
  }
 },
 "nbformat": 4,
 "nbformat_minor": 0
}
