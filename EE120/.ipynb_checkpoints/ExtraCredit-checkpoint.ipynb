{
 "cells": [
  {
   "cell_type": "code",
   "execution_count": 1,
   "metadata": {
    "collapsed": false
   },
   "outputs": [],
   "source": [
    "import matplotlib.pyplot as plt\n",
    "import numpy as np\n",
    "from scipy.io import wavfile as wav\n",
    "# data = wav.read('original2.wav')[1]\n",
    "# plt.plot(data)\n",
    "# plt.show()"
   ]
  },
  {
   "cell_type": "code",
   "execution_count": 2,
   "metadata": {
    "collapsed": false
   },
   "outputs": [
    {
     "data": {
      "image/png": "[encoded data removed]",
      "text/plain": [
       "<matplotlib.figure.Figure at 0x25777ea4898>"
      ]
     },
     "metadata": {},
     "output_type": "display_data"
    }
   ],
   "source": [
    "fs, data = wav.read('original2.wav') # load the data\n",
    "a = data.T[0] # this is a two channel soundtrack, I get the first track\n",
    "b=[(ele/2**8.)*2-1 for ele in a] # this is 8-bit track, b is now normalized on [-1,1)\n",
    "test = np.fft.fft(b) # calculate fourier transform (complex numbers list)\n",
    "\n",
    "maxAmplitude = np.absolute(np.max(test))\n",
    "\n",
    "modifiedOriginal = [elem/maxAmplitude for elem in test]\n",
    "\n",
    "d = int(len(test)/2)  # you only need half of the fft list (real signal symmetry)\n",
    "absList = [abs(elem) for elem in modifiedOriginal]\n",
    "plt.plot(absList[:(d-1)],'b') \n",
    "plt.show()"
   ]
  },
  {
   "cell_type": "code",
   "execution_count": 3,
   "metadata": {
    "collapsed": false
   },
   "outputs": [
    {
     "name": "stdout",
     "output_type": "stream",
     "text": [
      "4299.2407191\n"
     ]
    }
   ],
   "source": [
    "# Autocorrelation \n",
    "standard = np.absolute(np.correlate(absList, absList, 'valid'))[0]\n",
    "\n",
    "print(standard)"
   ]
  },
  {
   "cell_type": "code",
   "execution_count": 4,
   "metadata": {
    "collapsed": false
   },
   "outputs": [
    {
     "name": "stdout",
     "output_type": "stream",
     "text": [
      "0.152277739118\n"
     ]
    }
   ],
   "source": [
    "fs, data = wav.read('Sample1.wav') # load the data\n",
    "a = data.T[0] # this is a two channel soundtrack, I get the first track\n",
    "b=[(ele/2**8.)*2-1 for ele in a] # this is 8-bit track, b is now normalized on [-1,1)\n",
    "test = np.fft.fft(b) # calculate fourier transform (complex numbers list)\n",
    "\n",
    "maxAmplitude = np.absolute(np.max(test))\n",
    "\n",
    "normalized = [elem/maxAmplitude for elem in test]\n",
    "\n",
    "d = int(len(test)/2)  # you only need half of the fft list (real signal symmetry)\n",
    "magnitudeList = [abs(elem) for elem in normalized]\n",
    "test = np.absolute(np.correlate(absList, magnitudeList, 'valid'))[0]\n",
    "print(test/standard)"
   ]
  },
  {
   "cell_type": "code",
   "execution_count": 5,
   "metadata": {
    "collapsed": false
   },
   "outputs": [
    {
     "name": "stdout",
     "output_type": "stream",
     "text": [
      "0.283515295873\n"
     ]
    }
   ],
   "source": [
    "fs, data = wav.read('Sample2.wav') # load the data\n",
    "a = data.T[0] # this is a two channel soundtrack, I get the first track\n",
    "b=[(ele/2**8.)*2-1 for ele in a] # this is 8-bit track, b is now normalized on [-1,1)\n",
    "test = np.fft.fft(b) # calculate fourier transform (complex numbers list)\n",
    "\n",
    "maxAmplitude = np.absolute(np.max(test))\n",
    "\n",
    "normalized = [elem/maxAmplitude for elem in test]\n",
    "\n",
    "d = int(len(test)/2)  # you only need half of the fft list (real signal symmetry)\n",
    "magnitudeList = [abs(elem) for elem in normalized]\n",
    "test = np.absolute(np.correlate(absList, magnitudeList, 'valid'))[0]\n",
    "print(test/standard)"
   ]
  },
  {
   "cell_type": "code",
   "execution_count": null,
   "metadata": {
    "collapsed": true
   },
   "outputs": [],
   "source": [
    "fs, data = wav.read('Sample3.wav') # load the data\n",
    "a = data.T[0] # this is a two channel soundtrack, I get the first track\n",
    "b=[(ele/2**8.)*2-1 for ele in a] # this is 8-bit track, b is now normalized on [-1,1)\n",
    "test = np.fft.fft(b) # calculate fourier transform (complex numbers list)\n",
    "\n",
    "maxAmplitude = np.absolute(np.max(test))\n",
    "\n",
    "normalized = [elem/maxAmplitude for elem in test]\n",
    "\n",
    "d = int(len(test)/2)  # you only need half of the fft list (real signal symmetry)\n",
    "magnitudeList = [abs(elem) for elem in normalized]\n",
    "test = np.absolute(np.correlate(absList, magnitudeList, 'valid'))[0]\n",
    "print(test/standard)"
   ]
  },
  {
   "cell_type": "code",
   "execution_count": null,
   "metadata": {
    "collapsed": true
   },
   "outputs": [],
   "source": [
    "fs, data = wav.read('Sample4.wav') # load the data\n",
    "a = data.T[0] # this is a two channel soundtrack, I get the first track\n",
    "b=[(ele/2**8.)*2-1 for ele in a] # this is 8-bit track, b is now normalized on [-1,1)\n",
    "test = np.fft.fft(b) # calculate fourier transform (complex numbers list)\n",
    "\n",
    "maxAmplitude = np.absolute(np.max(test))\n",
    "\n",
    "normalized = [elem/maxAmplitude for elem in test]\n",
    "\n",
    "d = int(len(test)/2)  # you only need half of the fft list (real signal symmetry)\n",
    "magnitudeList = [abs(elem) for elem in normalized]\n",
    "test = np.absolute(np.correlate(absList, magnitudeList, 'valid'))[0]\n",
    "print(test/standard)"
   ]
  },
  {
   "cell_type": "code",
   "execution_count": null,
   "metadata": {
    "collapsed": true
   },
   "outputs": [],
   "source": [
    "data = [0.152277739118,0.283515295873, , ]\n",
    "ranking_data = [elem*100 for elem in normalized_data]\n",
    "print(ranking_data)"
   ]
  }
 ],
 "metadata": {
  "anaconda-cloud": {},
  "kernelspec": {
   "display_name": "Python [default]",
   "language": "python",
   "name": "python3"
  },
  "language_info": {
   "codemirror_mode": {
    "name": "ipython",
    "version": 3
   },
   "file_extension": ".py",
   "mimetype": "text/x-python",
   "name": "python",
   "nbconvert_exporter": "python",
   "pygments_lexer": "ipython3",
   "version": "3.5.2"
  }
 },
 "nbformat": 4,
 "nbformat_minor": 1
}
